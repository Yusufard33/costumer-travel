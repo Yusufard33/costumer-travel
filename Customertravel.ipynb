{
  "nbformat": 4,
  "nbformat_minor": 0,
  "metadata": {
    "colab": {
      "provenance": [],
      "toc_visible": true
    },
    "kernelspec": {
      "name": "python3",
      "display_name": "Python 3"
    },
    "language_info": {
      "name": "python"
    }
  },
  "cells": [
    {
      "cell_type": "code",
      "execution_count": 154,
      "metadata": {
        "id": "jikt-CG58Lhl"
      },
      "outputs": [],
      "source": [
        "import numpy as np\n",
        "import pandas as pd\n",
        "from sklearn.preprocessing import StandardScaler\n",
        "from sklearn.model_selection import train_test_split\n",
        "from sklearn import svm\n",
        "from sklearn.metrics import accuracy_score"
      ]
    },
    {
      "cell_type": "markdown",
      "source": [
        "# Bagian Baru"
      ],
      "metadata": {
        "id": "VS_AIckwIjDd"
      }
    },
    {
      "cell_type": "code",
      "source": [
        "wn_dataset = pd.read_csv('sample_data/Customertravel.csv')"
      ],
      "metadata": {
        "id": "beKq1w_OmOzF"
      },
      "execution_count": 155,
      "outputs": []
    },
    {
      "cell_type": "code",
      "source": [
        "wn_dataset.head()"
      ],
      "metadata": {
        "colab": {
          "base_uri": "https://localhost:8080/",
          "height": 250
        },
        "id": "jGsNsVqqqCdr",
        "outputId": "a97cbda8-592d-49f0-8247-17f35455ea11"
      },
      "execution_count": 156,
      "outputs": [
        {
          "output_type": "execute_result",
          "data": {
            "text/plain": [
              "   Age  FrequentFlyer  AnnualIncomeClass  ServicesOpted  \\\n",
              "0   34              0                  2              6   \n",
              "1   34              1                  1              5   \n",
              "2   37              0                  2              3   \n",
              "3   30              0                  2              2   \n",
              "4   30              0                  1              1   \n",
              "\n",
              "   AccountSyncedToSocialMedia  BookedHotelOr0t  Target  \n",
              "0                           0                1       0  \n",
              "1                           1                0       1  \n",
              "2                           1                0       0  \n",
              "3                           0                0       0  \n",
              "4                           0                0       0  "
            ],
            "text/html": [
              "\n",
              "  <div id=\"df-b7fbcf62-3f13-415f-9c77-026674575672\">\n",
              "    <div class=\"colab-df-container\">\n",
              "      <div>\n",
              "<style scoped>\n",
              "    .dataframe tbody tr th:only-of-type {\n",
              "        vertical-align: middle;\n",
              "    }\n",
              "\n",
              "    .dataframe tbody tr th {\n",
              "        vertical-align: top;\n",
              "    }\n",
              "\n",
              "    .dataframe thead th {\n",
              "        text-align: right;\n",
              "    }\n",
              "</style>\n",
              "<table border=\"1\" class=\"dataframe\">\n",
              "  <thead>\n",
              "    <tr style=\"text-align: right;\">\n",
              "      <th></th>\n",
              "      <th>Age</th>\n",
              "      <th>FrequentFlyer</th>\n",
              "      <th>AnnualIncomeClass</th>\n",
              "      <th>ServicesOpted</th>\n",
              "      <th>AccountSyncedToSocialMedia</th>\n",
              "      <th>BookedHotelOr0t</th>\n",
              "      <th>Target</th>\n",
              "    </tr>\n",
              "  </thead>\n",
              "  <tbody>\n",
              "    <tr>\n",
              "      <th>0</th>\n",
              "      <td>34</td>\n",
              "      <td>0</td>\n",
              "      <td>2</td>\n",
              "      <td>6</td>\n",
              "      <td>0</td>\n",
              "      <td>1</td>\n",
              "      <td>0</td>\n",
              "    </tr>\n",
              "    <tr>\n",
              "      <th>1</th>\n",
              "      <td>34</td>\n",
              "      <td>1</td>\n",
              "      <td>1</td>\n",
              "      <td>5</td>\n",
              "      <td>1</td>\n",
              "      <td>0</td>\n",
              "      <td>1</td>\n",
              "    </tr>\n",
              "    <tr>\n",
              "      <th>2</th>\n",
              "      <td>37</td>\n",
              "      <td>0</td>\n",
              "      <td>2</td>\n",
              "      <td>3</td>\n",
              "      <td>1</td>\n",
              "      <td>0</td>\n",
              "      <td>0</td>\n",
              "    </tr>\n",
              "    <tr>\n",
              "      <th>3</th>\n",
              "      <td>30</td>\n",
              "      <td>0</td>\n",
              "      <td>2</td>\n",
              "      <td>2</td>\n",
              "      <td>0</td>\n",
              "      <td>0</td>\n",
              "      <td>0</td>\n",
              "    </tr>\n",
              "    <tr>\n",
              "      <th>4</th>\n",
              "      <td>30</td>\n",
              "      <td>0</td>\n",
              "      <td>1</td>\n",
              "      <td>1</td>\n",
              "      <td>0</td>\n",
              "      <td>0</td>\n",
              "      <td>0</td>\n",
              "    </tr>\n",
              "  </tbody>\n",
              "</table>\n",
              "</div>\n",
              "      <button class=\"colab-df-convert\" onclick=\"convertToInteractive('df-b7fbcf62-3f13-415f-9c77-026674575672')\"\n",
              "              title=\"Convert this dataframe to an interactive table.\"\n",
              "              style=\"display:none;\">\n",
              "        \n",
              "  <svg xmlns=\"http://www.w3.org/2000/svg\" height=\"24px\"viewBox=\"0 0 24 24\"\n",
              "       width=\"24px\">\n",
              "    <path d=\"M0 0h24v24H0V0z\" fill=\"none\"/>\n",
              "    <path d=\"M18.56 5.44l.94 2.06.94-2.06 2.06-.94-2.06-.94-.94-2.06-.94 2.06-2.06.94zm-11 1L8.5 8.5l.94-2.06 2.06-.94-2.06-.94L8.5 2.5l-.94 2.06-2.06.94zm10 10l.94 2.06.94-2.06 2.06-.94-2.06-.94-.94-2.06-.94 2.06-2.06.94z\"/><path d=\"M17.41 7.96l-1.37-1.37c-.4-.4-.92-.59-1.43-.59-.52 0-1.04.2-1.43.59L10.3 9.45l-7.72 7.72c-.78.78-.78 2.05 0 2.83L4 21.41c.39.39.9.59 1.41.59.51 0 1.02-.2 1.41-.59l7.78-7.78 2.81-2.81c.8-.78.8-2.07 0-2.86zM5.41 20L4 18.59l7.72-7.72 1.47 1.35L5.41 20z\"/>\n",
              "  </svg>\n",
              "      </button>\n",
              "      \n",
              "  <style>\n",
              "    .colab-df-container {\n",
              "      display:flex;\n",
              "      flex-wrap:wrap;\n",
              "      gap: 12px;\n",
              "    }\n",
              "\n",
              "    .colab-df-convert {\n",
              "      background-color: #E8F0FE;\n",
              "      border: none;\n",
              "      border-radius: 50%;\n",
              "      cursor: pointer;\n",
              "      display: none;\n",
              "      fill: #1967D2;\n",
              "      height: 32px;\n",
              "      padding: 0 0 0 0;\n",
              "      width: 32px;\n",
              "    }\n",
              "\n",
              "    .colab-df-convert:hover {\n",
              "      background-color: #E2EBFA;\n",
              "      box-shadow: 0px 1px 2px rgba(60, 64, 67, 0.3), 0px 1px 3px 1px rgba(60, 64, 67, 0.15);\n",
              "      fill: #174EA6;\n",
              "    }\n",
              "\n",
              "    [theme=dark] .colab-df-convert {\n",
              "      background-color: #3B4455;\n",
              "      fill: #D2E3FC;\n",
              "    }\n",
              "\n",
              "    [theme=dark] .colab-df-convert:hover {\n",
              "      background-color: #434B5C;\n",
              "      box-shadow: 0px 1px 3px 1px rgba(0, 0, 0, 0.15);\n",
              "      filter: drop-shadow(0px 1px 2px rgba(0, 0, 0, 0.3));\n",
              "      fill: #FFFFFF;\n",
              "    }\n",
              "  </style>\n",
              "\n",
              "      <script>\n",
              "        const buttonEl =\n",
              "          document.querySelector('#df-b7fbcf62-3f13-415f-9c77-026674575672 button.colab-df-convert');\n",
              "        buttonEl.style.display =\n",
              "          google.colab.kernel.accessAllowed ? 'block' : 'none';\n",
              "\n",
              "        async function convertToInteractive(key) {\n",
              "          const element = document.querySelector('#df-b7fbcf62-3f13-415f-9c77-026674575672');\n",
              "          const dataTable =\n",
              "            await google.colab.kernel.invokeFunction('convertToInteractive',\n",
              "                                                     [key], {});\n",
              "          if (!dataTable) return;\n",
              "\n",
              "          const docLinkHtml = 'Like what you see? Visit the ' +\n",
              "            '<a target=\"_blank\" href=https://colab.research.google.com/notebooks/data_table.ipynb>data table notebook</a>'\n",
              "            + ' to learn more about interactive tables.';\n",
              "          element.innerHTML = '';\n",
              "          dataTable['output_type'] = 'display_data';\n",
              "          await google.colab.output.renderOutput(dataTable, element);\n",
              "          const docLink = document.createElement('div');\n",
              "          docLink.innerHTML = docLinkHtml;\n",
              "          element.appendChild(docLink);\n",
              "        }\n",
              "      </script>\n",
              "    </div>\n",
              "  </div>\n",
              "  "
            ]
          },
          "metadata": {},
          "execution_count": 156
        }
      ]
    },
    {
      "cell_type": "code",
      "source": [
        "wn_dataset.shape"
      ],
      "metadata": {
        "colab": {
          "base_uri": "https://localhost:8080/"
        },
        "id": "dIawwp5iqZ4i",
        "outputId": "c133a7a3-6f01-4b2f-df58-c5bf8f0eace2"
      },
      "execution_count": 157,
      "outputs": [
        {
          "output_type": "execute_result",
          "data": {
            "text/plain": [
              "(954, 7)"
            ]
          },
          "metadata": {},
          "execution_count": 157
        }
      ]
    },
    {
      "cell_type": "code",
      "source": [
        "# memisahkan data dan label\n",
        "\n",
        "x = wn_dataset.drop (columns='AnnualIncomeClass', axis=1)\n",
        "y = wn_dataset['AnnualIncomeClass']"
      ],
      "metadata": {
        "id": "pIX43V4-qjy5"
      },
      "execution_count": 158,
      "outputs": []
    },
    {
      "cell_type": "code",
      "source": [
        "print(x)"
      ],
      "metadata": {
        "colab": {
          "base_uri": "https://localhost:8080/"
        },
        "id": "w2QuTUQgrzHY",
        "outputId": "7682b594-6969-4453-804a-b2362fa42e17"
      },
      "execution_count": 159,
      "outputs": [
        {
          "output_type": "stream",
          "name": "stdout",
          "text": [
            "     Age  FrequentFlyer  ServicesOpted  AccountSyncedToSocialMedia  \\\n",
            "0     34              0              6                           0   \n",
            "1     34              1              5                           1   \n",
            "2     37              0              3                           1   \n",
            "3     30              0              2                           0   \n",
            "4     30              0              1                           0   \n",
            "..   ...            ...            ...                         ...   \n",
            "949   31              1              1                           0   \n",
            "950   30              0              5                           0   \n",
            "951   37              0              4                           0   \n",
            "952   30              0              1                           1   \n",
            "953   31              1              1                           0   \n",
            "\n",
            "     BookedHotelOr0t  Target  \n",
            "0                  1       0  \n",
            "1                  0       1  \n",
            "2                  0       0  \n",
            "3                  0       0  \n",
            "4                  0       0  \n",
            "..               ...     ...  \n",
            "949                0       0  \n",
            "950                1       0  \n",
            "951                0       0  \n",
            "952                1       0  \n",
            "953                0       0  \n",
            "\n",
            "[954 rows x 6 columns]\n"
          ]
        }
      ]
    },
    {
      "cell_type": "code",
      "source": [
        "print(y)"
      ],
      "metadata": {
        "colab": {
          "base_uri": "https://localhost:8080/"
        },
        "id": "Q-k8nIUWr96Y",
        "outputId": "136a8332-591f-4081-d97f-9bcba10ac980"
      },
      "execution_count": 160,
      "outputs": [
        {
          "output_type": "stream",
          "name": "stdout",
          "text": [
            "0      2\n",
            "1      1\n",
            "2      2\n",
            "3      2\n",
            "4      1\n",
            "      ..\n",
            "949    1\n",
            "950    2\n",
            "951    2\n",
            "952    1\n",
            "953    3\n",
            "Name: AnnualIncomeClass, Length: 954, dtype: int64\n"
          ]
        }
      ]
    },
    {
      "cell_type": "code",
      "source": [
        "# standarisasi data\n",
        "\n",
        "scaler = StandardScaler() "
      ],
      "metadata": {
        "id": "7vF2FETAsTep"
      },
      "execution_count": 161,
      "outputs": []
    },
    {
      "cell_type": "code",
      "source": [
        "scaler.fit(x)"
      ],
      "metadata": {
        "colab": {
          "base_uri": "https://localhost:8080/"
        },
        "id": "rB52ilRgsqqJ",
        "outputId": "3560dc1c-e845-424f-fb3d-665bb62a6161"
      },
      "execution_count": 162,
      "outputs": [
        {
          "output_type": "execute_result",
          "data": {
            "text/plain": [
              "StandardScaler()"
            ]
          },
          "metadata": {},
          "execution_count": 162
        }
      ]
    },
    {
      "cell_type": "code",
      "source": [
        "standar_data = scaler.transform(x)"
      ],
      "metadata": {
        "id": "wvJI3HietAVJ"
      },
      "execution_count": 163,
      "outputs": []
    },
    {
      "cell_type": "code",
      "source": [
        "print(standar_data)"
      ],
      "metadata": {
        "colab": {
          "base_uri": "https://localhost:8080/"
        },
        "id": "PL3PK1z2t2U7",
        "outputId": "9b2109fc-98db-4150-f26c-ee30c3aaa1f1"
      },
      "execution_count": 164,
      "outputs": [
        {
          "output_type": "stream",
          "name": "stdout",
          "text": [
            "[[ 0.56690365 -0.65432692  2.21932995 -0.77849894  1.2344268  -0.55393981]\n",
            " [ 0.56690365  1.52828804  1.59642887  1.28452326 -0.81009259  1.80525028]\n",
            " [ 1.46628183 -0.65432692  0.35062671  1.28452326 -0.81009259 -0.55393981]\n",
            " ...\n",
            " [ 1.46628183 -0.65432692  0.97352779 -0.77849894 -0.81009259 -0.55393981]\n",
            " [-0.63226726 -0.65432692 -0.89517545  1.28452326  1.2344268  -0.55393981]\n",
            " [-0.33247453  1.52828804 -0.89517545 -0.77849894 -0.81009259 -0.55393981]]\n"
          ]
        }
      ]
    },
    {
      "cell_type": "code",
      "source": [
        "x = standar_data\n",
        "y = wn_dataset['AnnualIncomeClass']"
      ],
      "metadata": {
        "id": "7x9RWmq_uC6A"
      },
      "execution_count": 165,
      "outputs": []
    },
    {
      "cell_type": "code",
      "source": [
        "print(x)\n",
        "print(y)"
      ],
      "metadata": {
        "colab": {
          "base_uri": "https://localhost:8080/"
        },
        "id": "QQD60GKvuXQp",
        "outputId": "423ca991-48c8-4da5-e540-e09672671069"
      },
      "execution_count": 166,
      "outputs": [
        {
          "output_type": "stream",
          "name": "stdout",
          "text": [
            "[[ 0.56690365 -0.65432692  2.21932995 -0.77849894  1.2344268  -0.55393981]\n",
            " [ 0.56690365  1.52828804  1.59642887  1.28452326 -0.81009259  1.80525028]\n",
            " [ 1.46628183 -0.65432692  0.35062671  1.28452326 -0.81009259 -0.55393981]\n",
            " ...\n",
            " [ 1.46628183 -0.65432692  0.97352779 -0.77849894 -0.81009259 -0.55393981]\n",
            " [-0.63226726 -0.65432692 -0.89517545  1.28452326  1.2344268  -0.55393981]\n",
            " [-0.33247453  1.52828804 -0.89517545 -0.77849894 -0.81009259 -0.55393981]]\n",
            "0      2\n",
            "1      1\n",
            "2      2\n",
            "3      2\n",
            "4      1\n",
            "      ..\n",
            "949    1\n",
            "950    2\n",
            "951    2\n",
            "952    1\n",
            "953    3\n",
            "Name: AnnualIncomeClass, Length: 954, dtype: int64\n"
          ]
        }
      ]
    },
    {
      "cell_type": "code",
      "source": [
        "# memisahkan data training dan data testing\n",
        "\n",
        "X_train, X_test, Y_train, Y_test = train_test_split(x, y, test_size= 0.3, stratify=y, random_state=3)"
      ],
      "metadata": {
        "id": "pTlUsLGlutZr"
      },
      "execution_count": 167,
      "outputs": []
    },
    {
      "cell_type": "code",
      "source": [
        "print(x.shape, X_train.shape, X_test.shape) "
      ],
      "metadata": {
        "colab": {
          "base_uri": "https://localhost:8080/"
        },
        "id": "EEtvUrmdvzv2",
        "outputId": "68d449c3-0f05-4c8f-9912-96b3fb9d7c1d"
      },
      "execution_count": 168,
      "outputs": [
        {
          "output_type": "stream",
          "name": "stdout",
          "text": [
            "(954, 6) (667, 6) (287, 6)\n"
          ]
        }
      ]
    },
    {
      "cell_type": "code",
      "source": [
        "# membuat data latih menggunakan algoritma SVM\n",
        "\n",
        "classifier = svm.SVC(kernel='linear')"
      ],
      "metadata": {
        "id": "YqlKN-UxwrNz"
      },
      "execution_count": 169,
      "outputs": []
    },
    {
      "cell_type": "code",
      "source": [
        "classifier.fit(X_train, Y_train)"
      ],
      "metadata": {
        "colab": {
          "base_uri": "https://localhost:8080/"
        },
        "id": "fUFz_txaxPEq",
        "outputId": "81eb8262-05c4-4c7c-ed27-e8ccf0f60a53"
      },
      "execution_count": 170,
      "outputs": [
        {
          "output_type": "execute_result",
          "data": {
            "text/plain": [
              "SVC(kernel='linear')"
            ]
          },
          "metadata": {},
          "execution_count": 170
        }
      ]
    },
    {
      "cell_type": "code",
      "source": [
        "#membuat evaluasi untuk mengukur tingkat akurasi\n",
        "\n",
        "X_train_predic = classifier.predict(X_train)\n",
        "training_data_accuracy = accuracy_score(X_train_predic, Y_train)"
      ],
      "metadata": {
        "id": "NOVgQs8YxgfH"
      },
      "execution_count": 171,
      "outputs": []
    },
    {
      "cell_type": "code",
      "source": [
        "print('Akurasi data training adalah = ', training_data_accuracy)"
      ],
      "metadata": {
        "colab": {
          "base_uri": "https://localhost:8080/"
        },
        "id": "GaWgFRycyf1h",
        "outputId": "6e63e8cf-2ec1-4d29-cdcb-5b280438e62f"
      },
      "execution_count": 172,
      "outputs": [
        {
          "output_type": "stream",
          "name": "stdout",
          "text": [
            "Akurasi data training adalah =  0.6866566716641679\n"
          ]
        }
      ]
    },
    {
      "cell_type": "code",
      "source": [
        "X_test_predic = classifier.predict(X_test)\n",
        "test_data_accuracy = accuracy_score(X_test_predic, Y_test)"
      ],
      "metadata": {
        "id": "fhppnT15yyRK"
      },
      "execution_count": 173,
      "outputs": []
    },
    {
      "cell_type": "code",
      "source": [
        "print('Akurasi data testing adalah = ', test_data_accuracy)"
      ],
      "metadata": {
        "colab": {
          "base_uri": "https://localhost:8080/"
        },
        "id": "CgsRTmKjzbNQ",
        "outputId": "3b8ee28a-ac78-432e-a668-a5cb0307ef59"
      },
      "execution_count": 174,
      "outputs": [
        {
          "output_type": "stream",
          "name": "stdout",
          "text": [
            "Akurasi data testing adalah =  0.6898954703832753\n"
          ]
        }
      ]
    },
    {
      "cell_type": "code",
      "source": [
        "# membuat model prediksi\n",
        "\n",
        "input_data = (34,1,5,1,0,1)\n",
        "\n",
        "input_data_as_numpy_array = np.array(input_data)\n",
        "\n",
        "input_data_reshape = input_data_as_numpy_array.reshape(1,-1)\n",
        "\n",
        "std_data = scaler.transform(input_data_reshape)\n",
        "print(std_data)\n",
        "\n",
        "predic = classifier.predict(std_data)\n",
        "print(predic)\n",
        "\n",
        "if (predic == 1 ):\n",
        "    print('Low ')\n",
        "if (predic == 2 ):\n",
        "    print('Midle')\n",
        "else :\n",
        "    print('Hight')"
      ],
      "metadata": {
        "colab": {
          "base_uri": "https://localhost:8080/"
        },
        "id": "EmTuM2jxzpVY",
        "outputId": "2b132d20-ecb1-422c-fcff-c83c97bb0bea"
      },
      "execution_count": 182,
      "outputs": [
        {
          "output_type": "stream",
          "name": "stdout",
          "text": [
            "[[ 0.56690365  1.52828804  1.59642887  1.28452326 -0.81009259  1.80525028]]\n",
            "[1]\n",
            "Low \n",
            "Hight\n"
          ]
        },
        {
          "output_type": "stream",
          "name": "stderr",
          "text": [
            "/usr/local/lib/python3.8/dist-packages/sklearn/base.py:450: UserWarning: X does not have valid feature names, but StandardScaler was fitted with feature names\n",
            "  warnings.warn(\n"
          ]
        }
      ]
    },
    {
      "cell_type": "code",
      "source": [
        "# simpan model\n",
        "\n",
        "import pickle"
      ],
      "metadata": {
        "id": "xMv2utbt25A5"
      },
      "execution_count": 179,
      "outputs": []
    },
    {
      "cell_type": "code",
      "source": [
        "filename = 'Customertravel.sav'\n",
        "pickle.dump(classifier, open(filename,'wb'))"
      ],
      "metadata": {
        "id": "cjJRfXpV3D2Z"
      },
      "execution_count": 181,
      "outputs": []
    }
  ]
}